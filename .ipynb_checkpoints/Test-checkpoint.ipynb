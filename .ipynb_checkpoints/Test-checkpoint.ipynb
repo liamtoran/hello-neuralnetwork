{
 "cells": [
  {
   "cell_type": "code",
   "execution_count": 2,
   "metadata": {},
   "outputs": [
    {
     "name": "stdout",
     "output_type": "stream",
     "text": [
      "Random starting synaptic weights: \n",
      "[[-0.16595599]\n",
      " [ 0.44064899]\n",
      " [-0.99977125]]\n",
      "Synaptic weights after training:\n",
      "[[11.30926129]\n",
      " [-0.20509237]\n",
      " [-5.45001623]]\n",
      "Outputs after training:\n",
      "[[0.0042779 ]\n",
      " [0.99650925]\n",
      " [0.99715469]\n",
      " [0.00348742]]\n"
     ]
    }
   ],
   "source": [
    "# %load perceptron.py\n",
    "import numpy as np\n",
    "\n",
    "\n",
    "def sigmoid(x):  # sigmoid function of vector x\n",
    "    return 1 / (1 + np.exp(-x))\n",
    "\n",
    "\n",
    "def sigmoid_derivative(x):\n",
    "    return x * (1 - x)\n",
    "\n",
    "\n",
    "training_inputs = np.array([[0, 0, 1], [1, 1, 1], [1, 0, 1], [0, 1, 1]])\n",
    "training_outputs = np.array([[0, 1, 1, 0]]).T\n",
    "\n",
    "np.random.seed(1)\n",
    "\n",
    "synaptic_weights = 2 * np.random.random((3, 1)) - 1\n",
    "\n",
    "print(\"Random starting synaptic weights: \")\n",
    "print(synaptic_weights)\n",
    "\n",
    "for i in range(50000):\n",
    "    input_layer = training_inputs\n",
    "    outputs = sigmoid(np.dot(input_layer, synaptic_weights))\n",
    "    error = training_outputs - outputs\n",
    "    adjustments = error * sigmoid_derivative(outputs)\n",
    "    synaptic_weights += np.dot(input_layer.T, adjustments)\n",
    "print(\"Synaptic weights after training:\")\n",
    "print(synaptic_weights)\n",
    "print(\"Outputs after training:\")\n",
    "print(outputs)"
   ]
  },
  {
   "cell_type": "code",
   "execution_count": null,
   "metadata": {},
   "outputs": [],
   "source": []
  }
 ],
 "metadata": {
  "kernelspec": {
   "display_name": "Python 3",
   "language": "python",
   "name": "python3"
  },
  "language_info": {
   "codemirror_mode": {
    "name": "ipython",
    "version": 3
   },
   "file_extension": ".py",
   "mimetype": "text/x-python",
   "name": "python",
   "nbconvert_exporter": "python",
   "pygments_lexer": "ipython3",
   "version": "3.7.3"
  }
 },
 "nbformat": 4,
 "nbformat_minor": 2
}
